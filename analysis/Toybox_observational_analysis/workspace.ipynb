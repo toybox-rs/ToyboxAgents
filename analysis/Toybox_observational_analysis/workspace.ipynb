{
 "cells": [
  {
   "cell_type": "code",
   "execution_count": 1,
   "metadata": {},
   "outputs": [],
   "source": [
    "import pandas as pd\n",
    "import numpy as np\n",
    "from random import sample\n",
    "from feature_prep import feature_construction\n",
    "import seaborn as sns\n",
    "import matplotlib.pyplot as plt\n",
    "from tqdm.notebook import tqdm"
   ]
  },
  {
   "cell_type": "code",
   "execution_count": 2,
   "metadata": {},
   "outputs": [],
   "source": [
    "df = pd.read_csv(\"aimed_left-features.csv\")"
   ]
  },
  {
   "cell_type": "code",
   "execution_count": 4,
   "metadata": {},
   "outputs": [],
   "source": [
    "predictors = ['xpos_ball', 'xpos_pad', 'score', 'pad_width', 'ball_speed', 'ball_down',\n",
    "              'l2_ball_pad', 'num_bricks_left', 'num_cols_0_bricks',\n",
    "              'num_cols_1_brick', 'num_cols_2_bricks', 'bricks_right_of_paddle', 'bricks_left_of_paddle', 'channels_left_of_paddle',\n",
    "              'channels_right_of_paddle', 'almost_channels_left_of_paddle', 'almost_channels_right_of_paddle']"
   ]
  },
  {
   "cell_type": "code",
   "execution_count": 5,
   "metadata": {},
   "outputs": [],
   "source": [
    "for predictor in predictors:\n",
    "    if isinstance(df[predictor][0], (np.bool_, bool)):\n",
    "        # convert booleans to 0/1 rather than 'True'/'False'\n",
    "        df[predictor] = [1 if val == 'True' else 0 for val in df[predictor]]\n",
    "    if isinstance(df[predictor][0], str):\n",
    "        if len(np.unique(df[predictor])) > 2:\n",
    "            print(\"warning: \" + predictor + \" should be converted into numbers\")\n",
    "        else:  # don't discretize, just convert to integer values, since order is irrelevant if there are only two possible values\n",
    "            df[predictor] = [1 if val == df[predictor][0] else 0 for val in df[predictor]]"
   ]
  },
  {
   "cell_type": "code",
   "execution_count": 6,
   "metadata": {},
   "outputs": [
    {
     "name": "stderr",
     "output_type": "stream",
     "text": [
      "/Users/kentatakatsu/.local/lib/python3.6/site-packages/numpy/lib/function_base.py:2525: RuntimeWarning: invalid value encountered in true_divide\n",
      "  c /= stddev[:, None]\n",
      "/Users/kentatakatsu/.local/lib/python3.6/site-packages/numpy/lib/function_base.py:2526: RuntimeWarning: invalid value encountered in true_divide\n",
      "  c /= stddev[None, :]\n"
     ]
    }
   ],
   "source": [
    "cor = np.corrcoef(df[predictors].T)"
   ]
  },
  {
   "cell_type": "code",
   "execution_count": 7,
   "metadata": {},
   "outputs": [
    {
     "data": {
      "text/plain": [
       "<matplotlib.axes._subplots.AxesSubplot at 0x107fddc50>"
      ]
     },
     "execution_count": 7,
     "metadata": {},
     "output_type": "execute_result"
    },
    {
     "data": {
      "image/png": "[encoded data removed]",
      "text/plain": [
       "<Figure size 576x432 with 2 Axes>"
      ]
     },
     "metadata": {
      "needs_background": "light"
     },
     "output_type": "display_data"
    }
   ],
   "source": [
    "plt.figure(figsize=(8,6))\n",
    "sns.heatmap(np.abs(cor))"
   ]
  },
  {
   "cell_type": "code",
   "execution_count": 9,
   "metadata": {},
   "outputs": [
    {
     "name": "stdout",
     "output_type": "stream",
     "text": [
      "0 1\n",
      "0 11\n",
      "1 11\n",
      "2 7\n",
      "8 13\n"
     ]
    }
   ],
   "source": [
    "for i in range(len(cor)):\n",
    "    for j in range(i+1, len(cor)):\n",
    "        if np.abs(cor[i, j]) > 0.85:\n",
    "            print(i,j)\n",
    "# xpos_ball and xpos_pad\n",
    "# num_cols_0_bricks and channels_left_of_paddle"
   ]
  },
  {
   "cell_type": "code",
   "execution_count": 268,
   "metadata": {},
   "outputs": [
    {
     "data": {
      "text/plain": [
       "<matplotlib.axes._subplots.AxesSubplot at 0x131e1f438>"
      ]
     },
     "execution_count": 268,
     "metadata": {},
     "output_type": "execute_result"
    },
    {
     "data": {
      "image/png": "[encoded data removed]",
      "text/plain": [
       "<Figure size 576x432 with 2 Axes>"
      ]
     },
     "metadata": {
      "needs_background": "light"
     },
     "output_type": "display_data"
    }
   ],
   "source": [
    "plt.figure(figsize=(8,6))\n",
    "predictors_ = [item for i, item in enumerate(predictors) if i not in (0,2,8,11,12)]\n",
    "cor = np.corrcoef(df[predictors_].T)\n",
    "sns.heatmap(np.abs(cor))"
   ]
  },
  {
   "cell_type": "code",
   "execution_count": 269,
   "metadata": {},
   "outputs": [
    {
     "name": "stdout",
     "output_type": "stream",
     "text": [
      "(352, 58)\n",
      "(77, 58)\n"
     ]
    }
   ],
   "source": [
    "num_pos_samples_per_episode = 20\n",
    "num_neg_samples_per_episode = 20\n",
    "time_lag = 6\n",
    "samples = []\n",
    "\n",
    "seeds = np.unique(df['seed'])\n",
    "np.random.shuffle(seeds)\n",
    "\n",
    "train_seed = seeds[:24]\n",
    "for seed in train_seed:\n",
    "    df_seed = df[df.seed == seed]\n",
    "    positive_samples_t = df_seed[df_seed.outcome & (df_seed.t >= time_lag)].t.values - time_lag\n",
    "    positive_samples_t = sample(list(positive_samples_t), min(num_pos_samples_per_episode, len(positive_samples_t)))\n",
    "    positive_samples = df_seed[[t in positive_samples_t for t in df_seed.t]]\n",
    "    positive_samples = positive_samples.assign(outcome=True)\n",
    "\n",
    "    negative_samples_t = df_seed[\n",
    "                             ~df_seed.outcome & df_seed.outcome_indicator & (df_seed.t >= time_lag)].t.values - time_lag\n",
    "    negative_samples_t = sample(list(negative_samples_t), min(num_neg_samples_per_episode, len(negative_samples_t)))\n",
    "    negative_samples = df_seed[[t in negative_samples_t for t in df_seed.t]]\n",
    "    negative_samples = negative_samples.assign(outcome=False)\n",
    "\n",
    "    samples.append(positive_samples)\n",
    "    samples.append(negative_samples)\n",
    "samples = pd.concat(samples)\n",
    "\n",
    "print(samples.shape)\n",
    "\n",
    "val_samples = []\n",
    "val_seed = seeds[24:]\n",
    "for seed in val_seed:\n",
    "    df_seed = df[df.seed == seed]\n",
    "    positive_samples_t = df_seed[df_seed.outcome & (df_seed.t >= time_lag)].t.values - time_lag\n",
    "    positive_samples_t = sample(list(positive_samples_t), min(num_pos_samples_per_episode, len(positive_samples_t)))\n",
    "    positive_samples = df_seed[[t in positive_samples_t for t in df_seed.t]]\n",
    "    positive_samples = positive_samples.assign(outcome=True)\n",
    "\n",
    "    negative_samples_t = df_seed[\n",
    "                             ~df_seed.outcome & df_seed.outcome_indicator & (df_seed.t >= time_lag)].t.values - time_lag\n",
    "    negative_samples_t = sample(list(negative_samples_t), min(num_neg_samples_per_episode, len(negative_samples_t)))\n",
    "    negative_samples = df_seed[[t in negative_samples_t for t in df_seed.t]]\n",
    "    negative_samples = negative_samples.assign(outcome=False)\n",
    "\n",
    "    val_samples.append(positive_samples)\n",
    "    val_samples.append(negative_samples)\n",
    "val_samples = pd.concat(val_samples)\n",
    "\n",
    "print(val_samples.shape)"
   ]
  },
  {
   "cell_type": "code",
   "execution_count": 270,
   "metadata": {},
   "outputs": [
    {
     "data": {
      "text/plain": [
       "RandomForestClassifier(bootstrap=True, class_weight=None, criterion='gini',\n",
       "                       max_depth=None, max_features='auto', max_leaf_nodes=None,\n",
       "                       min_impurity_decrease=0.0, min_impurity_split=None,\n",
       "                       min_samples_leaf=1, min_samples_split=2,\n",
       "                       min_weight_fraction_leaf=0.0, n_estimators=1000,\n",
       "                       n_jobs=None, oob_score=False, random_state=None,\n",
       "                       verbose=0, warm_start=False)"
      ]
     },
     "execution_count": 270,
     "metadata": {},
     "output_type": "execute_result"
    }
   ],
   "source": [
    "from sklearn.ensemble import RandomForestClassifier\n",
    "rf = RandomForestClassifier(n_estimators=1000)\n",
    "rf.fit(samples[predictors_], samples['outcome'])"
   ]
  },
  {
   "cell_type": "code",
   "execution_count": 271,
   "metadata": {},
   "outputs": [
    {
     "data": {
      "text/plain": [
       "0.9943181818181818"
      ]
     },
     "execution_count": 271,
     "metadata": {},
     "output_type": "execute_result"
    }
   ],
   "source": [
    "sum(rf.predict(samples[predictors_]) == samples['outcome'])/ len(samples['outcome'])"
   ]
  },
  {
   "cell_type": "code",
   "execution_count": 272,
   "metadata": {},
   "outputs": [
    {
     "data": {
      "text/plain": [
       "0.8051948051948052"
      ]
     },
     "execution_count": 272,
     "metadata": {},
     "output_type": "execute_result"
    }
   ],
   "source": [
    "val_pred = rf.predict(val_samples[predictors_])\n",
    "sum(val_pred.astype(np.float64) == val_samples['outcome'])/ len(val_samples['outcome'])"
   ]
  },
  {
   "cell_type": "code",
   "execution_count": 273,
   "metadata": {},
   "outputs": [
    {
     "data": {
      "text/plain": [
       "array([False, False, False, False, False, False, False, False, False,\n",
       "       False, False, False, False, False, False, False, False, False,\n",
       "       False, False, False, False, False, False, False, False, False,\n",
       "       False, False, False, False, False, False, False, False, False,\n",
       "       False, False, False, False, False, False, False, False, False,\n",
       "       False, False, False, False, False, False,  True, False, False,\n",
       "       False, False, False, False, False, False, False, False, False,\n",
       "       False, False, False, False, False, False, False, False, False,\n",
       "       False, False, False, False, False])"
      ]
     },
     "execution_count": 273,
     "metadata": {},
     "output_type": "execute_result"
    }
   ],
   "source": [
    "val_pred"
   ]
  },
  {
   "cell_type": "code",
   "execution_count": 274,
   "metadata": {
    "scrolled": false
   },
   "outputs": [
    {
     "name": "stdout",
     "output_type": "stream",
     "text": [
      "\n",
      "Fitting 2 layers\n",
      "Processing layer-1             "
     ]
    },
    {
     "name": "stderr",
     "output_type": "stream",
     "text": [
      "/Users/kentatakatsu/anaconda/lib/python3.6/site-packages/sklearn/linear_model/logistic.py:432: FutureWarning: Default solver will be changed to 'lbfgs' in 0.22. Specify a solver to silence this warning.\n",
      "  FutureWarning)\n",
      "/Users/kentatakatsu/anaconda/lib/python3.6/site-packages/sklearn/linear_model/logistic.py:432: FutureWarning: Default solver will be changed to 'lbfgs' in 0.22. Specify a solver to silence this warning.\n",
      "  FutureWarning)\n",
      "/Users/kentatakatsu/anaconda/lib/python3.6/site-packages/sklearn/svm/base.py:193: FutureWarning: The default value of gamma will change from 'auto' to 'scale' in version 0.22 to account better for unscaled features. Set gamma explicitly to 'auto' or 'scale' to avoid this warning.\n",
      "  \"avoid this warning.\", FutureWarning)\n"
     ]
    },
    {
     "name": "stdout",
     "output_type": "stream",
     "text": [
      "done | 00:00:00\n",
      "Processing layer-2             done | 00:00:00\n",
      "Fit complete                        | 00:00:00\n",
      "\n",
      "Predicting 2 layers\n"
     ]
    },
    {
     "name": "stderr",
     "output_type": "stream",
     "text": [
      "/Users/kentatakatsu/anaconda/lib/python3.6/site-packages/sklearn/linear_model/logistic.py:432: FutureWarning: Default solver will be changed to 'lbfgs' in 0.22. Specify a solver to silence this warning.\n",
      "  FutureWarning)\n"
     ]
    },
    {
     "name": "stdout",
     "output_type": "stream",
     "text": [
      "Processing layer-1             done | 00:00:00\n",
      "Processing layer-2             done | 00:00:00\n",
      "Predict complete                    | 00:00:00\n"
     ]
    }
   ],
   "source": [
    "# initial prediction for E[Y|T,X] using SuperLearner\n",
    "from mlens.ensemble import SuperLearner\n",
    "from sklearn.linear_model import LogisticRegression\n",
    "from sklearn.ensemble import RandomForestClassifier\n",
    "from sklearn.svm import SVC\n",
    "from sklearn.naive_bayes import GaussianNB\n",
    "from sklearn.neighbors import KNeighborsClassifier\n",
    "from sklearn.metrics import accuracy_score\n",
    "\n",
    "ensemble = SuperLearner(scorer=accuracy_score, verbose=2)\n",
    "ensemble.add([RandomForestClassifier(n_estimators=100), \n",
    "              SVC(), \n",
    "              LogisticRegression(), \n",
    "              GaussianNB(), \n",
    "              KNeighborsClassifier()])\n",
    "ensemble.add_meta(LogisticRegression())\n",
    "ensemble.fit(samples[predictors_], samples['outcome'])\n",
    "preds = ensemble.predict(val_samples[predictors_])"
   ]
  },
  {
   "cell_type": "code",
   "execution_count": 275,
   "metadata": {},
   "outputs": [
    {
     "data": {
      "text/plain": [
       "0.8181818181818182"
      ]
     },
     "execution_count": 275,
     "metadata": {},
     "output_type": "execute_result"
    }
   ],
   "source": [
    "sum(preds.astype(np.float64) == val_samples['outcome'])/ len(val_samples['outcome'])"
   ]
  },
  {
   "cell_type": "code",
   "execution_count": 276,
   "metadata": {},
   "outputs": [
    {
     "data": {
      "text/plain": [
       "XBART(num_trees = 1000, num_sweeps = 100, n_min = 1, num_cutpoints = 100, alpha = 0.95, beta = 1.25, tau = 0.001, burnin = 10, mtry = 12, max_depth_num = 250, kap = 16.0, s = 4.0, verbose = False, parallel = False, seed = 0, model_num = 2, no_split_penality = 0.0, sample_weights_flag = True, num_classes = 1)"
      ]
     },
     "execution_count": 276,
     "metadata": {},
     "output_type": "execute_result"
    }
   ],
   "source": [
    "from xbart import XBART\n",
    "\n",
    "xbt = XBART(model=\"Probit\", num_trees = 1000, num_sweeps = 100, burnin = 10)\n",
    "xbt.fit(samples[predictors_], samples['outcome'].astype(np.float64))"
   ]
  },
  {
   "cell_type": "code",
   "execution_count": 277,
   "metadata": {},
   "outputs": [
    {
     "data": {
      "text/plain": [
       "0.8181818181818182"
      ]
     },
     "execution_count": 277,
     "metadata": {},
     "output_type": "execute_result"
    }
   ],
   "source": [
    "preds = (xbt.predict(val_samples[predictors_])> 0.5)*1\n",
    "sum(preds == val_samples['outcome'].astype(np.float64))/ len(val_samples['outcome'])"
   ]
  },
  {
   "cell_type": "code",
   "execution_count": 278,
   "metadata": {},
   "outputs": [
    {
     "data": {
      "text/plain": [
       "array([0, 0, 0, 0, 0, 0, 0, 0, 0, 0, 0, 0, 0, 0, 0, 0, 0, 0, 0, 0, 0, 0,\n",
       "       0, 0, 0, 0, 0, 0, 0, 0, 0, 0, 0, 0, 0, 0, 0, 0, 0, 0, 0, 0, 0, 0,\n",
       "       0, 0, 0, 0, 0, 0, 0, 0, 0, 0, 0, 0, 0, 0, 0, 0, 0, 0, 0, 0, 0, 0,\n",
       "       0, 0, 0, 0, 0, 0, 0, 0, 0, 0, 0])"
      ]
     },
     "execution_count": 278,
     "metadata": {},
     "output_type": "execute_result"
    }
   ],
   "source": [
    "preds"
   ]
  },
  {
   "cell_type": "code",
   "execution_count": 279,
   "metadata": {},
   "outputs": [
    {
     "data": {
      "application/vnd.jupyter.widget-view+json": {
       "model_id": "63aa6317d75b4e5589d67513c43230f4",
       "version_major": 2,
       "version_minor": 0
      },
      "text/plain": [
       "HBox(children=(FloatProgress(value=0.0, max=12.0), HTML(value='')))"
      ]
     },
     "metadata": {},
     "output_type": "display_data"
    },
    {
     "name": "stdout",
     "output_type": "stream",
     "text": [
      "\n"
     ]
    }
   ],
   "source": [
    "num_discretization_bins = 5\n",
    "\n",
    "discretization_dict = dict()\n",
    "for predictor in tqdm(predictors_):\n",
    "    if isinstance(df[predictor][0], float) | len(pd.unique(df[predictor])) > 8:\n",
    "        not_discretized_yet = True\n",
    "        curr_num_bins = 1\n",
    "        while not_discretized_yet:\n",
    "            try:\n",
    "                if curr_num_bins == 1:  # we can't do a single bin, so give up on density-based binning\n",
    "                    discretization = list(pd.cut(df[predictor], bins=num_discretization_bins))\n",
    "                else:\n",
    "                    discretization = list(pd.qcut(df[predictor], q=curr_num_bins))\n",
    "                discretization_dict[predictor] = sorted(np.unique(discretization))  # save the discretization scheme\n",
    "                discretization_dict[predictor] = sorted(np.unique(discretization))\n",
    "                not_discretized_yet = False\n",
    "\n",
    "            except ValueError:\n",
    "                curr_num_bins -= 1"
   ]
  },
  {
   "cell_type": "code",
   "execution_count": 280,
   "metadata": {},
   "outputs": [
    {
     "data": {
      "text/plain": [
       "{'xpos_pad': [Interval(-0.24, 48.0, closed='right'),\n",
       "  Interval(48.0, 96.0, closed='right'),\n",
       "  Interval(96.0, 144.0, closed='right'),\n",
       "  Interval(144.0, 192.0, closed='right'),\n",
       "  Interval(192.0, 240.0, closed='right')],\n",
       " 'l2_ball_pad': [Interval(0.881, 25.075, closed='right'),\n",
       "  Interval(25.075, 49.148, closed='right'),\n",
       "  Interval(49.148, 73.222, closed='right'),\n",
       "  Interval(73.222, 97.296, closed='right'),\n",
       "  Interval(97.296, 121.369, closed='right')],\n",
       " 'num_bricks_left': [Interval(25.918, 42.4, closed='right'),\n",
       "  Interval(42.4, 58.8, closed='right'),\n",
       "  Interval(58.8, 75.2, closed='right'),\n",
       "  Interval(75.2, 91.6, closed='right'),\n",
       "  Interval(91.6, 108.0, closed='right')],\n",
       " 'num_cols_1_brick': [Interval(-0.009, 1.8, closed='right'),\n",
       "  Interval(1.8, 3.6, closed='right'),\n",
       "  Interval(3.6, 5.4, closed='right'),\n",
       "  Interval(5.4, 7.2, closed='right'),\n",
       "  Interval(7.2, 9.0, closed='right')],\n",
       " 'num_cols_2_bricks': [Interval(-0.008, 1.6, closed='right'),\n",
       "  Interval(1.6, 3.2, closed='right'),\n",
       "  Interval(3.2, 4.8, closed='right'),\n",
       "  Interval(4.8, 6.4, closed='right'),\n",
       "  Interval(6.4, 8.0, closed='right')],\n",
       " 'almost_channels_left_of_paddle': [Interval(-0.013, 2.6, closed='right'),\n",
       "  Interval(2.6, 5.2, closed='right'),\n",
       "  Interval(5.2, 7.8, closed='right'),\n",
       "  Interval(7.8, 10.4, closed='right'),\n",
       "  Interval(10.4, 13.0, closed='right')],\n",
       " 'almost_channels_right_of_paddle': [Interval(-0.011, 2.2, closed='right'),\n",
       "  Interval(2.2, 4.4, closed='right'),\n",
       "  Interval(4.4, 6.6, closed='right'),\n",
       "  Interval(6.6, 8.8, closed='right'),\n",
       "  Interval(8.8, 11.0, closed='right')]}"
      ]
     },
     "execution_count": 280,
     "metadata": {},
     "output_type": "execute_result"
    }
   ],
   "source": [
    "discretization_dict"
   ]
  },
  {
   "cell_type": "code",
   "execution_count": 281,
   "metadata": {},
   "outputs": [
    {
     "data": {
      "application/vnd.jupyter.widget-view+json": {
       "model_id": "3519326fbaf04269b755a90af2b3b9c3",
       "version_major": 2,
       "version_minor": 0
      },
      "text/plain": [
       "HBox(children=(FloatProgress(value=0.0, max=12.0), HTML(value='')))"
      ]
     },
     "metadata": {},
     "output_type": "display_data"
    },
    {
     "name": "stdout",
     "output_type": "stream",
     "text": [
      "xpos_pad\n",
      "pad_width\n",
      "ball_speed\n",
      "ball_down\n",
      "l2_ball_pad\n",
      "num_bricks_left\n",
      "num_cols_1_brick\n",
      "num_cols_2_bricks\n",
      "channels_left_of_paddle\n",
      "channels_right_of_paddle\n",
      "almost_channels_left_of_paddle\n",
      "almost_channels_right_of_paddle\n",
      "\n"
     ]
    }
   ],
   "source": [
    "# ### Learn joint model of covariates, in the form of separate predictive random forests for each covariate\n",
    "rf_dict = dict()\n",
    "for covar in tqdm(predictors_):\n",
    "    print(covar)\n",
    "    if covar in discretization_dict.keys():  # need to apply discretization scheme to the current covar\n",
    "        discretization = discretization_dict[covar]\n",
    "        val_to_discretize = samples[covar]\n",
    "        val_discretized = []\n",
    "        for val in val_to_discretize:\n",
    "            is_disc_value = [val in disc for disc in\n",
    "                             discretization]  # figure out which discretization category the value is in\n",
    "            val_discretized.append(\n",
    "                discretization[np.where(is_disc_value)[0][0]])  # get the actual interval corresponding to that location\n",
    "        curr_outcome = [str(val) for val in val_discretized]\n",
    "    else:\n",
    "        curr_outcome = samples[covar]\n",
    "    rf_dict[covar] = RandomForestClassifier(n_estimators=100)\n",
    "    rf_dict[covar].fit(samples[predictors_].loc[:, samples[predictors_].columns != covar], curr_outcome)"
   ]
  },
  {
   "cell_type": "code",
   "execution_count": 282,
   "metadata": {},
   "outputs": [
    {
     "name": "stdout",
     "output_type": "stream",
     "text": [
      "      agent_name     seed    t action  missed_ball   xpos_ball  ypos_ball  \\\n",
      "19302     Target  4561254  216  right        False  162.309287      142.0   \n",
      "\n",
      "       xpos_ball_prev  ypos_ball_prev  xpos_pad  ...  channels_left_of_paddle  \\\n",
      "19302      162.309287           140.0     156.0  ...                        0   \n",
      "\n",
      "       channels_right_of_paddle  almost_channels_left_of_paddle  \\\n",
      "19302                         0                               0   \n",
      "\n",
      "      almost_channels_right_of_paddle  ball_down_prev  ball_hit  aimed_left  \\\n",
      "19302                               0            True      True       False   \n",
      "\n",
      "       aimed_right  outcome  outcome_indicator  \n",
      "19302         True    False               True  \n",
      "\n",
      "[1 rows x 58 columns]\n"
     ]
    },
    {
     "name": "stderr",
     "output_type": "stream",
     "text": [
      "/Users/kentatakatsu/.local/lib/python3.6/site-packages/pandas/core/generic.py:5303: SettingWithCopyWarning: \n",
      "A value is trying to be set on a copy of a slice from a DataFrame.\n",
      "Try using .loc[row_indexer,col_indexer] = value instead\n",
      "\n",
      "See the caveats in the documentation: https://pandas.pydata.org/pandas-docs/stable/user_guide/indexing.html#returning-a-view-versus-a-copy\n",
      "  self[name] = value\n"
     ]
    },
    {
     "name": "stdout",
     "output_type": "stream",
     "text": [
      "[[0.998 0.002]]\n",
      "[[0.952 0.048]]\n",
      "[[0.874 0.126]]\n",
      "[[0.801 0.199]]\n",
      "No interventions found for xpos_pad\n",
      "[[0.915 0.085]]\n",
      "No interventions found for pad_width\n",
      "[[0.851 0.149]]\n",
      "No interventions found for ball_speed\n",
      "No interventions found for ball_down\n",
      "[[0.933 0.067]]\n",
      "[[0.933 0.067]]\n",
      "[[0.933 0.067]]\n",
      "[[0.933 0.067]]\n",
      "No interventions found for l2_ball_pad\n",
      "[[0.692 0.308]]\n",
      "[[0.686 0.314]]\n",
      "[[0.697 0.303]]\n",
      "[[0.757 0.243]]\n",
      "No interventions found for num_bricks_left\n",
      "[[0.928 0.072]]\n",
      "[[0.928 0.072]]\n",
      "[[0.928 0.072]]\n",
      "[[0.928 0.072]]\n",
      "No interventions found for num_cols_1_brick\n",
      "[[0.768 0.232]]\n",
      "[[0.779 0.221]]\n",
      "[[0.779 0.221]]\n",
      "[[0.779 0.221]]\n",
      "No interventions found for num_cols_2_bricks\n",
      "[[0.923 0.077]]\n",
      "[[0.915 0.085]]\n",
      "[[0.914 0.086]]\n",
      "[[0.899 0.101]]\n",
      "[[0.898 0.102]]\n",
      "[[0.899 0.101]]\n",
      "No interventions found for channels_left_of_paddle\n",
      "[[0.957 0.043]]\n",
      "[[0.958 0.042]]\n",
      "[[0.958 0.042]]\n",
      "No interventions found for channels_right_of_paddle\n",
      "[[0.874 0.126]]\n",
      "[[0.863 0.137]]\n",
      "[[0.863 0.137]]\n",
      "[[0.863 0.137]]\n",
      "No interventions found for almost_channels_left_of_paddle\n",
      "[[0.812 0.188]]\n",
      "[[0.812 0.188]]\n",
      "[[0.812 0.188]]\n",
      "[[0.812 0.188]]\n",
      "No interventions found for almost_channels_right_of_paddle\n",
      "Empty DataFrame\n",
      "Columns: [variable, from_value, to_value, relative_prob]\n",
      "Index: []\n"
     ]
    }
   ],
   "source": [
    "# ### Now that we've learned all the relevant models, we can finally provide counterfactual explanations!\n",
    "# - take in a query time point (must satisfy outcome_indicator)\n",
    "# - apply the time lag\n",
    "# - iterate over all possible (discretized) values for all predictors\n",
    "# - for each value, check if the predicted outcome crosses over the .5 threshold to give a different prediction\n",
    "# - if so, this is an explanation - report the likelihood of this explanation using the corresponding covariate model#\n",
    "\n",
    "\n",
    "\n",
    "query = df.loc[sample(list(df[df.outcome_indicator].index), 1)]\n",
    "print(query)\n",
    "query_tick = list(query.t)[0]\n",
    "query_seed = list(query.seed)[0]\n",
    "observed_outcome = list(query.outcome)[0]\n",
    "\n",
    "if query_tick - time_lag < 0:\n",
    "    print(\"ERROR - invalid query time (too early in episode)\")\n",
    "\n",
    "# apply the time lag\n",
    "query = df[(df.t == (query_tick - time_lag)) & (df.seed == query_seed)]\n",
    "query.outcome = observed_outcome\n",
    "\n",
    "possible_explanations = pd.DataFrame(columns=['variable', 'from_value', 'to_value', 'relative_prob'])\n",
    "pred_outcome = rf.predict(query[predictors_])[0]\n",
    "if pred_outcome != observed_outcome:\n",
    "    print(\"Unexpected outcome - model prediction differs from observation\")\n",
    "\n",
    "for var in predictors_:\n",
    "    observed_val = query[var].iloc[0]\n",
    "    if var in discretization_dict.keys():\n",
    "        possible_ranges = discretization_dict[var].copy()\n",
    "        observed_val = possible_ranges[np.where([(observed_val in curr_range) for curr_range in possible_ranges])[0][0]]\n",
    "        possible_ranges.remove(observed_val)\n",
    "        # sample from the ranges to get actual values for intervention\n",
    "        possible_vals = [np.random.uniform(curr_range.left, curr_range.right) for curr_range in possible_ranges]\n",
    "    else:\n",
    "        #        print(var + \" was not discretized!\")\n",
    "        possible_vals = list(np.unique(df[var]))\n",
    "        possible_vals.remove(observed_val)\n",
    "\n",
    "    # loop over the possible different values for var, and see if they change the predicted outcome\n",
    "    vals_with_different_outcome = []\n",
    "    for val in possible_vals:\n",
    "        intervened_covars = query.copy(deep=True)\n",
    "        outcome_probs = rf.predict_proba(query[predictors_])\n",
    "        intervened_covars[var] = val\n",
    "        intervened_outcome = rf.predict(intervened_covars[predictors_])\n",
    "        intervened_prob = rf.predict_proba(intervened_covars[predictors_])\n",
    "\n",
    "        if intervened_outcome != observed_outcome:\n",
    "            vals_with_different_outcome.append(val)\n",
    "        print(intervened_prob)\n",
    "\n",
    "\n",
    "    if len(vals_with_different_outcome) == 0:\n",
    "        print(\"No interventions found for \" + str(var))\n",
    "    else:\n",
    "        print(\"These settings of \" + str(var) + \" change the outcome: \" + str(vals_with_different_outcome))\n",
    "\n",
    "    # Now apply the covariate model to get the relative probabilities of these new values for var\n",
    "    covar_rf = rf_dict[var]\n",
    "    covar_classes = [str(curr_class) for curr_class in list(covar_rf.classes_)]\n",
    "    for val in vals_with_different_outcome:\n",
    "        if var in discretization_dict.keys():\n",
    "            val = possible_ranges[np.where([(val in curr_range) for curr_range in possible_ranges])[0][0]]\n",
    "        model_preds = covar_rf.predict_proba(query[predictors].loc[:, query[predictors].columns != var])[0]\n",
    "        observed_prob = model_preds[covar_classes.index(str(observed_val))]\n",
    "        if ~(val in covar_classes):\n",
    "            intervened_prob = 0\n",
    "        else:\n",
    "            intervened_prob = model_preds[covar_classes.index(str(val))]\n",
    "        if observed_prob == 0:\n",
    "            change_prob = 0\n",
    "        else:\n",
    "            change_prob = intervened_prob / observed_prob\n",
    "        possible_explanations.loc[len(possible_explanations)] = [var, observed_val, val, change_prob]\n",
    "\n",
    "print(possible_explanations)\n"
   ]
  },
  {
   "cell_type": "code",
   "execution_count": 285,
   "metadata": {
    "scrolled": false
   },
   "outputs": [
    {
     "name": "stdout",
     "output_type": "stream",
     "text": [
      "      agent_name     seed     t action  missed_ball   xpos_ball   ypos_ball  \\\n",
      "36278     Target  9654690  1952   left        False  138.467616  140.172909   \n",
      "\n",
      "       xpos_ball_prev  ypos_ball_prev  xpos_pad  ...  channels_left_of_paddle  \\\n",
      "36278      140.094562      136.518727     136.0  ...                        6   \n",
      "\n",
      "       channels_right_of_paddle  almost_channels_left_of_paddle  \\\n",
      "36278                         0                               4   \n",
      "\n",
      "      almost_channels_right_of_paddle  ball_down_prev  ball_hit  aimed_left  \\\n",
      "36278                               5            True      True       False   \n",
      "\n",
      "       aimed_right  outcome  outcome_indicator  \n",
      "36278         True    False               True  \n",
      "\n",
      "[1 rows x 58 columns]\n",
      "Unexpected outcome - model prediction differs from observation\n",
      "[-556.60684255]\n",
      "[-556.61309128]\n",
      "[-556.6177034]\n",
      "[-556.62075471]\n",
      "These settings of xpos_pad change the outcome: [43.97803562124557, 88.65130848015464, 126.9590648708975, 198.47810089910072]\n",
      "[-556.61463854]\n",
      "These settings of pad_width change the outcome: [1]\n"
     ]
    },
    {
     "name": "stderr",
     "output_type": "stream",
     "text": [
      "/Users/kentatakatsu/.local/lib/python3.6/site-packages/pandas/core/generic.py:5303: SettingWithCopyWarning: \n",
      "A value is trying to be set on a copy of a slice from a DataFrame.\n",
      "Try using .loc[row_indexer,col_indexer] = value instead\n",
      "\n",
      "See the caveats in the documentation: https://pandas.pydata.org/pandas-docs/stable/user_guide/indexing.html#returning-a-view-versus-a-copy\n",
      "  self[name] = value\n"
     ]
    },
    {
     "name": "stdout",
     "output_type": "stream",
     "text": [
      "[-554.03490664]\n",
      "These settings of ball_speed change the outcome: [1]\n",
      "No interventions found for ball_down\n",
      "[-556.61841628]\n",
      "[-556.61841628]\n",
      "[-556.61841628]\n",
      "[-556.61841628]\n",
      "These settings of l2_ball_pad change the outcome: [44.23465631755427, 70.11034677127546, 94.78183220352372, 102.00590040083434]\n",
      "[-556.6218394]\n",
      "[-556.62125605]\n",
      "[-556.61952463]\n",
      "[-556.61588101]\n",
      "These settings of num_bricks_left change the outcome: [55.25745797065487, 73.97073171266254, 82.64046252686225, 105.72308413537262]\n",
      "[-556.61415218]\n",
      "[-556.61332477]\n",
      "[-556.61332477]\n",
      "[-556.61332477]\n",
      "These settings of num_cols_1_brick change the outcome: [2.909129495798327, 4.917932034446867, 7.0402593584865505, 8.729539495065463]\n",
      "[-556.61848646]\n",
      "[-556.61998385]\n",
      "[-556.62174549]\n",
      "[-556.6202373]\n",
      "These settings of num_cols_2_bricks change the outcome: [0.8817977241203181, 2.26385067730104, 3.364813400063846, 5.043958490033508]\n",
      "[-556.62370697]\n",
      "[-556.62266522]\n",
      "[-556.61989541]\n",
      "[-556.61957866]\n",
      "[-556.6194525]\n",
      "[-556.6194525]\n",
      "These settings of channels_left_of_paddle change the outcome: [0, 1, 2, 3, 4, 5]\n",
      "[-540.44508409]\n",
      "[-540.43766995]\n",
      "[-540.43468807]\n",
      "These settings of channels_right_of_paddle change the outcome: [1, 2, 3]\n",
      "[-556.62128136]\n",
      "[-556.61997471]\n",
      "[-556.61997471]\n",
      "[-556.61997471]\n",
      "These settings of almost_channels_left_of_paddle change the outcome: [2.395095165289087, 6.005427287745828, 8.748392216854834, 12.078796496357482]\n",
      "[-556.61978478]\n",
      "[-556.6202373]\n",
      "[-556.6202373]\n",
      "[-556.6202373]\n",
      "These settings of almost_channels_right_of_paddle change the outcome: [1.5730519598006305, 5.59368130049605, 7.9675375783670805, 9.148232665793776]\n",
      "                           variable       from_value           to_value  \\\n",
      "0                          xpos_pad   (144.0, 192.0]      (-0.24, 48.0]   \n",
      "1                          xpos_pad   (144.0, 192.0]       (48.0, 96.0]   \n",
      "2                          xpos_pad   (144.0, 192.0]      (96.0, 144.0]   \n",
      "3                          xpos_pad   (144.0, 192.0]     (192.0, 240.0]   \n",
      "4                         pad_width                0                  1   \n",
      "5                        ball_speed                0                  1   \n",
      "6                       l2_ball_pad  (0.881, 25.075]   (25.075, 49.148]   \n",
      "7                       l2_ball_pad  (0.881, 25.075]   (49.148, 73.222]   \n",
      "8                       l2_ball_pad  (0.881, 25.075]   (73.222, 97.296]   \n",
      "9                       l2_ball_pad  (0.881, 25.075]  (97.296, 121.369]   \n",
      "10                  num_bricks_left   (25.918, 42.4]       (42.4, 58.8]   \n",
      "11                  num_bricks_left   (25.918, 42.4]       (58.8, 75.2]   \n",
      "12                  num_bricks_left   (25.918, 42.4]       (75.2, 91.6]   \n",
      "13                  num_bricks_left   (25.918, 42.4]      (91.6, 108.0]   \n",
      "14                 num_cols_1_brick    (-0.009, 1.8]         (1.8, 3.6]   \n",
      "15                 num_cols_1_brick    (-0.009, 1.8]         (3.6, 5.4]   \n",
      "16                 num_cols_1_brick    (-0.009, 1.8]         (5.4, 7.2]   \n",
      "17                 num_cols_1_brick    (-0.009, 1.8]         (7.2, 9.0]   \n",
      "18                num_cols_2_bricks       (6.4, 8.0]      (-0.008, 1.6]   \n",
      "19                num_cols_2_bricks       (6.4, 8.0]         (1.6, 3.2]   \n",
      "20                num_cols_2_bricks       (6.4, 8.0]         (3.2, 4.8]   \n",
      "21                num_cols_2_bricks       (6.4, 8.0]         (4.8, 6.4]   \n",
      "22          channels_left_of_paddle                6                  0   \n",
      "23          channels_left_of_paddle                6                  1   \n",
      "24          channels_left_of_paddle                6                  2   \n",
      "25          channels_left_of_paddle                6                  3   \n",
      "26          channels_left_of_paddle                6                  4   \n",
      "27          channels_left_of_paddle                6                  5   \n",
      "28         channels_right_of_paddle                0                  1   \n",
      "29         channels_right_of_paddle                0                  2   \n",
      "30         channels_right_of_paddle                0                  3   \n",
      "31   almost_channels_left_of_paddle       (2.6, 5.2]      (-0.013, 2.6]   \n",
      "32   almost_channels_left_of_paddle       (2.6, 5.2]         (5.2, 7.8]   \n",
      "33   almost_channels_left_of_paddle       (2.6, 5.2]        (7.8, 10.4]   \n",
      "34   almost_channels_left_of_paddle       (2.6, 5.2]       (10.4, 13.0]   \n",
      "35  almost_channels_right_of_paddle       (2.2, 4.4]      (-0.011, 2.2]   \n",
      "36  almost_channels_right_of_paddle       (2.2, 4.4]         (4.4, 6.6]   \n",
      "37  almost_channels_right_of_paddle       (2.2, 4.4]         (6.6, 8.8]   \n",
      "38  almost_channels_right_of_paddle       (2.2, 4.4]        (8.8, 11.0]   \n",
      "\n",
      "    relative_prob  \n",
      "0             0.0  \n",
      "1             0.0  \n",
      "2             0.0  \n",
      "3             0.0  \n",
      "4             0.0  \n",
      "5             0.0  \n",
      "6             0.0  \n",
      "7             0.0  \n",
      "8             0.0  \n",
      "9             0.0  \n",
      "10            0.0  \n",
      "11            0.0  \n",
      "12            0.0  \n",
      "13            0.0  \n",
      "14            0.0  \n",
      "15            0.0  \n",
      "16            0.0  \n",
      "17            0.0  \n",
      "18            0.0  \n",
      "19            0.0  \n",
      "20            0.0  \n",
      "21            0.0  \n",
      "22            0.0  \n",
      "23            0.0  \n",
      "24            0.0  \n",
      "25            0.0  \n",
      "26            0.0  \n",
      "27            0.0  \n",
      "28            0.0  \n",
      "29            0.0  \n",
      "30            0.0  \n",
      "31            0.0  \n",
      "32            0.0  \n",
      "33            0.0  \n",
      "34            0.0  \n",
      "35            0.0  \n",
      "36            0.0  \n",
      "37            0.0  \n",
      "38            0.0  \n"
     ]
    }
   ],
   "source": [
    "# ### Now that we've learned all the relevant models, we can finally provide counterfactual explanations!\n",
    "# - take in a query time point (must satisfy outcome_indicator)\n",
    "# - apply the time lag\n",
    "# - iterate over all possible (discretized) values for all predictors\n",
    "# - for each value, check if the predicted outcome crosses over the .5 threshold to give a different prediction\n",
    "# - if so, this is an explanation - report the likelihood of this explanation using the corresponding covariate model#\n",
    "\n",
    "\n",
    "\n",
    "query = df.loc[sample(list(df[df.outcome_indicator].index), 1)]\n",
    "print(query)\n",
    "query_tick = list(query.t)[0]\n",
    "query_seed = list(query.seed)[0]\n",
    "observed_outcome = list(query.outcome)[0]\n",
    "\n",
    "if query_tick - time_lag < 0:\n",
    "    print(\"ERROR - invalid query time (too early in episode)\")\n",
    "\n",
    "# apply the time lag\n",
    "query = df[(df.t == (query_tick - time_lag)) & (df.seed == query_seed)]\n",
    "query.outcome = observed_outcome\n",
    "\n",
    "possible_explanations = pd.DataFrame(columns=['variable', 'from_value', 'to_value', 'relative_prob'])\n",
    "pred_outcome = xbt.predict(query[predictors_])[0]\n",
    "if pred_outcome != observed_outcome:\n",
    "    print(\"Unexpected outcome - model prediction differs from observation\")\n",
    "\n",
    "for var in predictors_:\n",
    "    observed_val = query[var].iloc[0]\n",
    "    if var in discretization_dict.keys():\n",
    "        possible_ranges = discretization_dict[var].copy()\n",
    "        observed_val = possible_ranges[np.where([(observed_val in curr_range) for curr_range in possible_ranges])[0][0]]\n",
    "        possible_ranges.remove(observed_val)\n",
    "        # sample from the ranges to get actual values for intervention\n",
    "        possible_vals = [np.random.uniform(curr_range.left, curr_range.right) for curr_range in possible_ranges]\n",
    "    else:\n",
    "        #        print(var + \" was not discretized!\")\n",
    "        possible_vals = list(np.unique(df[var]))\n",
    "        possible_vals.remove(observed_val)\n",
    "\n",
    "    # loop over the possible different values for var, and see if they change the predicted outcome\n",
    "    vals_with_different_outcome = []\n",
    "    for val in possible_vals:\n",
    "        intervened_covars = query.copy(deep=True)\n",
    "        intervened_covars[var] = val\n",
    "        intervened_outcome = xbt.predict(intervened_covars[predictors_])\n",
    "        intervened_prob = xbt.predict(intervened_covars[predictors_])\n",
    "        outcome_probs = xbt.predict(query[predictors_])\n",
    "\n",
    "        if intervened_outcome != observed_outcome:\n",
    "            vals_with_different_outcome.append(val)\n",
    "        print(intervened_prob)\n",
    "\n",
    "\n",
    "    if len(vals_with_different_outcome) == 0:\n",
    "        print(\"No interventions found for \" + str(var))\n",
    "    else:\n",
    "        print(\"These settings of \" + str(var) + \" change the outcome: \" + str(vals_with_different_outcome))\n",
    "\n",
    "    # Now apply the covariate model to get the relative probabilities of these new values for var\n",
    "    covar_rf = rf_dict[var]\n",
    "    covar_classes = [str(curr_class) for curr_class in list(covar_rf.classes_)]\n",
    "    for val in vals_with_different_outcome:\n",
    "        if var in discretization_dict.keys():\n",
    "            val = possible_ranges[np.where([(val in curr_range) for curr_range in possible_ranges])[0][0]]\n",
    "        model_preds = covar_rf.predict_proba(query[predictors_].loc[:, query[predictors_].columns != var])[0]\n",
    "        observed_prob = model_preds[covar_classes.index(str(observed_val))]\n",
    "        if ~(val in covar_classes):\n",
    "            intervened_prob = 0\n",
    "        else:\n",
    "            intervened_prob = model_preds[covar_classes.index(str(val))]\n",
    "        if observed_prob == 0:\n",
    "            change_prob = 0\n",
    "        else:\n",
    "            change_prob = intervened_prob / observed_prob\n",
    "        possible_explanations.loc[len(possible_explanations)] = [var, observed_val, val, change_prob]\n",
    "\n",
    "print(possible_explanations)\n"
   ]
  },
  {
   "cell_type": "code",
   "execution_count": null,
   "metadata": {},
   "outputs": [],
   "source": []
  },
  {
   "cell_type": "code",
   "execution_count": null,
   "metadata": {},
   "outputs": [],
   "source": []
  }
 ],
 "metadata": {
  "kernelspec": {
   "display_name": "Python 3",
   "language": "python",
   "name": "python3"
  },
  "language_info": {
   "codemirror_mode": {
    "name": "ipython",
    "version": 3
   },
   "file_extension": ".py",
   "mimetype": "text/x-python",
   "name": "python",
   "nbconvert_exporter": "python",
   "pygments_lexer": "ipython3",
   "version": "3.6.10"
  }
 },
 "nbformat": 4,
 "nbformat_minor": 4
}
